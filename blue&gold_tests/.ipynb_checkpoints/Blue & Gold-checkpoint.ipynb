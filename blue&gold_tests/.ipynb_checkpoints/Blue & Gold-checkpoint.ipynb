{
 "cells": [
  {
   "cell_type": "markdown",
   "id": "1bf1e5a1",
   "metadata": {},
   "source": [
    "# INSTALLATIONS / LIBRARIES IMPORT / API CLIENT"
   ]
  },
  {
   "cell_type": "code",
   "execution_count": 1,
   "id": "96bc911b",
   "metadata": {
    "scrolled": true
   },
   "outputs": [
    {
     "name": "stdout",
     "output_type": "stream",
     "text": [
      "Requirement already satisfied: eurostatapiclient in c:\\users\\oscar\\anaconda3\\lib\\site-packages (0.3.0)\n",
      "Requirement already satisfied: pandas>=0.23.4 in c:\\users\\oscar\\anaconda3\\lib\\site-packages (from eurostatapiclient) (2.0.3)\n",
      "Requirement already satisfied: requests>=2.21.0 in c:\\users\\oscar\\anaconda3\\lib\\site-packages (from eurostatapiclient) (2.31.0)\n",
      "Requirement already satisfied: python-dateutil>=2.8.2 in c:\\users\\oscar\\anaconda3\\lib\\site-packages (from pandas>=0.23.4->eurostatapiclient) (2.8.2)\n",
      "Requirement already satisfied: pytz>=2020.1 in c:\\users\\oscar\\anaconda3\\lib\\site-packages (from pandas>=0.23.4->eurostatapiclient) (2023.3.post1)\n",
      "Requirement already satisfied: tzdata>=2022.1 in c:\\users\\oscar\\anaconda3\\lib\\site-packages (from pandas>=0.23.4->eurostatapiclient) (2023.3)\n",
      "Requirement already satisfied: numpy>=1.21.0 in c:\\users\\oscar\\anaconda3\\lib\\site-packages (from pandas>=0.23.4->eurostatapiclient) (1.24.3)\n",
      "Requirement already satisfied: charset-normalizer<4,>=2 in c:\\users\\oscar\\anaconda3\\lib\\site-packages (from requests>=2.21.0->eurostatapiclient) (2.0.4)\n",
      "Requirement already satisfied: idna<4,>=2.5 in c:\\users\\oscar\\anaconda3\\lib\\site-packages (from requests>=2.21.0->eurostatapiclient) (3.4)\n",
      "Requirement already satisfied: urllib3<3,>=1.21.1 in c:\\users\\oscar\\anaconda3\\lib\\site-packages (from requests>=2.21.0->eurostatapiclient) (1.26.16)\n",
      "Requirement already satisfied: certifi>=2017.4.17 in c:\\users\\oscar\\anaconda3\\lib\\site-packages (from requests>=2.21.0->eurostatapiclient) (2024.2.2)\n",
      "Requirement already satisfied: six>=1.5 in c:\\users\\oscar\\anaconda3\\lib\\site-packages (from python-dateutil>=2.8.2->pandas>=0.23.4->eurostatapiclient) (1.16.0)\n",
      "Note: you may need to restart the kernel to use updated packages.\n"
     ]
    }
   ],
   "source": [
    "pip install eurostatapiclient "
   ]
  },
  {
   "cell_type": "code",
   "execution_count": 2,
   "id": "35609cc2",
   "metadata": {},
   "outputs": [],
   "source": [
    "#Attribution https://github.com/opus-42/eurostat-api-client\n"
   ]
  },
  {
   "cell_type": "code",
   "execution_count": 3,
   "id": "931448f9",
   "metadata": {
    "scrolled": true
   },
   "outputs": [
    {
     "name": "stdout",
     "output_type": "stream",
     "text": [
      "Requirement already satisfied: geopandas in c:\\users\\oscar\\anaconda3\\lib\\site-packages (0.14.2)\n",
      "Requirement already satisfied: fiona>=1.8.21 in c:\\users\\oscar\\anaconda3\\lib\\site-packages (from geopandas) (1.9.5)\n",
      "Requirement already satisfied: packaging in c:\\users\\oscar\\anaconda3\\lib\\site-packages (from geopandas) (23.1)\n",
      "Requirement already satisfied: pandas>=1.4.0 in c:\\users\\oscar\\anaconda3\\lib\\site-packages (from geopandas) (2.0.3)\n",
      "Requirement already satisfied: pyproj>=3.3.0 in c:\\users\\oscar\\anaconda3\\lib\\site-packages (from geopandas) (3.6.1)\n",
      "Requirement already satisfied: shapely>=1.8.0 in c:\\users\\oscar\\anaconda3\\lib\\site-packages (from geopandas) (2.0.1)\n",
      "Requirement already satisfied: attrs>=19.2.0 in c:\\users\\oscar\\anaconda3\\lib\\site-packages (from fiona>=1.8.21->geopandas) (22.1.0)\n",
      "Requirement already satisfied: certifi in c:\\users\\oscar\\anaconda3\\lib\\site-packages (from fiona>=1.8.21->geopandas) (2024.2.2)\n",
      "Requirement already satisfied: click~=8.0 in c:\\users\\oscar\\anaconda3\\lib\\site-packages (from fiona>=1.8.21->geopandas) (8.0.4)\n",
      "Requirement already satisfied: click-plugins>=1.0 in c:\\users\\oscar\\anaconda3\\lib\\site-packages (from fiona>=1.8.21->geopandas) (1.1.1)\n",
      "Requirement already satisfied: cligj>=0.5 in c:\\users\\oscar\\anaconda3\\lib\\site-packages (from fiona>=1.8.21->geopandas) (0.7.2)\n",
      "Requirement already satisfied: six in c:\\users\\oscar\\anaconda3\\lib\\site-packages (from fiona>=1.8.21->geopandas) (1.16.0)\n",
      "Requirement already satisfied: setuptools in c:\\users\\oscar\\anaconda3\\lib\\site-packages (from fiona>=1.8.21->geopandas) (68.0.0)\n",
      "Requirement already satisfied: python-dateutil>=2.8.2 in c:\\users\\oscar\\anaconda3\\lib\\site-packages (from pandas>=1.4.0->geopandas) (2.8.2)\n",
      "Requirement already satisfied: pytz>=2020.1 in c:\\users\\oscar\\anaconda3\\lib\\site-packages (from pandas>=1.4.0->geopandas) (2023.3.post1)\n",
      "Requirement already satisfied: tzdata>=2022.1 in c:\\users\\oscar\\anaconda3\\lib\\site-packages (from pandas>=1.4.0->geopandas) (2023.3)\n",
      "Requirement already satisfied: numpy>=1.21.0 in c:\\users\\oscar\\anaconda3\\lib\\site-packages (from pandas>=1.4.0->geopandas) (1.24.3)\n",
      "Requirement already satisfied: colorama in c:\\users\\oscar\\anaconda3\\lib\\site-packages (from click~=8.0->fiona>=1.8.21->geopandas) (0.4.6)\n",
      "Note: you may need to restart the kernel to use updated packages.\n"
     ]
    }
   ],
   "source": [
    "pip install geopandas"
   ]
  },
  {
   "cell_type": "code",
   "execution_count": 4,
   "id": "9fc98282",
   "metadata": {
    "scrolled": true
   },
   "outputs": [
    {
     "name": "stdout",
     "output_type": "stream",
     "text": [
      "Requirement already satisfied: geoplot in c:\\users\\oscar\\anaconda3\\lib\\site-packages (0.5.1)\n",
      "Requirement already satisfied: matplotlib>=3.1.2 in c:\\users\\oscar\\anaconda3\\lib\\site-packages (from geoplot) (3.7.2)\n",
      "Requirement already satisfied: seaborn in c:\\users\\oscar\\anaconda3\\lib\\site-packages (from geoplot) (0.12.2)\n",
      "Requirement already satisfied: pandas in c:\\users\\oscar\\anaconda3\\lib\\site-packages (from geoplot) (2.0.3)\n",
      "Requirement already satisfied: geopandas>=0.9.0 in c:\\users\\oscar\\anaconda3\\lib\\site-packages (from geoplot) (0.14.2)\n",
      "Requirement already satisfied: cartopy in c:\\users\\oscar\\anaconda3\\lib\\site-packages (from geoplot) (0.22.0)\n",
      "Requirement already satisfied: mapclassify>=2.1 in c:\\users\\oscar\\anaconda3\\lib\\site-packages (from geoplot) (2.5.0)\n",
      "Requirement already satisfied: contextily>=1.0.0 in c:\\users\\oscar\\anaconda3\\lib\\site-packages (from geoplot) (1.5.0)\n",
      "Requirement already satisfied: geopy in c:\\users\\oscar\\anaconda3\\lib\\site-packages (from contextily>=1.0.0->geoplot) (2.4.1)\n",
      "Requirement already satisfied: mercantile in c:\\users\\oscar\\anaconda3\\lib\\site-packages (from contextily>=1.0.0->geoplot) (1.2.1)\n",
      "Requirement already satisfied: pillow in c:\\users\\oscar\\anaconda3\\lib\\site-packages (from contextily>=1.0.0->geoplot) (10.0.1)\n",
      "Requirement already satisfied: rasterio in c:\\users\\oscar\\anaconda3\\lib\\site-packages (from contextily>=1.0.0->geoplot) (1.3.9)\n",
      "Requirement already satisfied: requests in c:\\users\\oscar\\anaconda3\\lib\\site-packages (from contextily>=1.0.0->geoplot) (2.31.0)\n",
      "Requirement already satisfied: joblib in c:\\users\\oscar\\anaconda3\\lib\\site-packages (from contextily>=1.0.0->geoplot) (1.2.0)\n",
      "Requirement already satisfied: xyzservices in c:\\users\\oscar\\anaconda3\\lib\\site-packages (from contextily>=1.0.0->geoplot) (2022.9.0)\n",
      "Requirement already satisfied: fiona>=1.8.21 in c:\\users\\oscar\\anaconda3\\lib\\site-packages (from geopandas>=0.9.0->geoplot) (1.9.5)\n",
      "Requirement already satisfied: packaging in c:\\users\\oscar\\anaconda3\\lib\\site-packages (from geopandas>=0.9.0->geoplot) (23.1)\n",
      "Requirement already satisfied: pyproj>=3.3.0 in c:\\users\\oscar\\anaconda3\\lib\\site-packages (from geopandas>=0.9.0->geoplot) (3.6.1)\n",
      "Requirement already satisfied: shapely>=1.8.0 in c:\\users\\oscar\\anaconda3\\lib\\site-packages (from geopandas>=0.9.0->geoplot) (2.0.1)\n",
      "Requirement already satisfied: scipy>=1.0 in c:\\users\\oscar\\anaconda3\\lib\\site-packages (from mapclassify>=2.1->geoplot) (1.11.1)\n",
      "Requirement already satisfied: numpy>=1.3 in c:\\users\\oscar\\anaconda3\\lib\\site-packages (from mapclassify>=2.1->geoplot) (1.24.3)\n",
      "Requirement already satisfied: scikit-learn in c:\\users\\oscar\\anaconda3\\lib\\site-packages (from mapclassify>=2.1->geoplot) (1.3.0)\n",
      "Requirement already satisfied: networkx in c:\\users\\oscar\\anaconda3\\lib\\site-packages (from mapclassify>=2.1->geoplot) (3.1)\n",
      "Requirement already satisfied: contourpy>=1.0.1 in c:\\users\\oscar\\anaconda3\\lib\\site-packages (from matplotlib>=3.1.2->geoplot) (1.0.5)\n",
      "Requirement already satisfied: cycler>=0.10 in c:\\users\\oscar\\anaconda3\\lib\\site-packages (from matplotlib>=3.1.2->geoplot) (0.11.0)\n",
      "Requirement already satisfied: fonttools>=4.22.0 in c:\\users\\oscar\\anaconda3\\lib\\site-packages (from matplotlib>=3.1.2->geoplot) (4.25.0)\n",
      "Requirement already satisfied: kiwisolver>=1.0.1 in c:\\users\\oscar\\anaconda3\\lib\\site-packages (from matplotlib>=3.1.2->geoplot) (1.4.4)\n",
      "Requirement already satisfied: pyparsing<3.1,>=2.3.1 in c:\\users\\oscar\\anaconda3\\lib\\site-packages (from matplotlib>=3.1.2->geoplot) (3.0.9)\n",
      "Requirement already satisfied: python-dateutil>=2.7 in c:\\users\\oscar\\anaconda3\\lib\\site-packages (from matplotlib>=3.1.2->geoplot) (2.8.2)\n",
      "Requirement already satisfied: pytz>=2020.1 in c:\\users\\oscar\\anaconda3\\lib\\site-packages (from pandas->geoplot) (2023.3.post1)\n",
      "Requirement already satisfied: tzdata>=2022.1 in c:\\users\\oscar\\anaconda3\\lib\\site-packages (from pandas->geoplot) (2023.3)\n",
      "Requirement already satisfied: pyshp>=2.1 in c:\\users\\oscar\\anaconda3\\lib\\site-packages (from cartopy->geoplot) (2.3.1)\n",
      "Requirement already satisfied: attrs>=19.2.0 in c:\\users\\oscar\\anaconda3\\lib\\site-packages (from fiona>=1.8.21->geopandas>=0.9.0->geoplot) (22.1.0)\n",
      "Requirement already satisfied: certifi in c:\\users\\oscar\\anaconda3\\lib\\site-packages (from fiona>=1.8.21->geopandas>=0.9.0->geoplot) (2024.2.2)\n",
      "Requirement already satisfied: click~=8.0 in c:\\users\\oscar\\anaconda3\\lib\\site-packages (from fiona>=1.8.21->geopandas>=0.9.0->geoplot) (8.0.4)\n",
      "Requirement already satisfied: click-plugins>=1.0 in c:\\users\\oscar\\anaconda3\\lib\\site-packages (from fiona>=1.8.21->geopandas>=0.9.0->geoplot) (1.1.1)\n",
      "Requirement already satisfied: cligj>=0.5 in c:\\users\\oscar\\anaconda3\\lib\\site-packages (from fiona>=1.8.21->geopandas>=0.9.0->geoplot) (0.7.2)\n",
      "Requirement already satisfied: six in c:\\users\\oscar\\anaconda3\\lib\\site-packages (from fiona>=1.8.21->geopandas>=0.9.0->geoplot) (1.16.0)\n",
      "Requirement already satisfied: setuptools in c:\\users\\oscar\\anaconda3\\lib\\site-packages (from fiona>=1.8.21->geopandas>=0.9.0->geoplot) (68.0.0)\n",
      "Requirement already satisfied: geographiclib<3,>=1.52 in c:\\users\\oscar\\anaconda3\\lib\\site-packages (from geopy->contextily>=1.0.0->geoplot) (2.0)\n",
      "Requirement already satisfied: affine in c:\\users\\oscar\\anaconda3\\lib\\site-packages (from rasterio->contextily>=1.0.0->geoplot) (2.4.0)\n",
      "Requirement already satisfied: snuggs>=1.4.1 in c:\\users\\oscar\\anaconda3\\lib\\site-packages (from rasterio->contextily>=1.0.0->geoplot) (1.4.7)\n",
      "Requirement already satisfied: charset-normalizer<4,>=2 in c:\\users\\oscar\\anaconda3\\lib\\site-packages (from requests->contextily>=1.0.0->geoplot) (2.0.4)\n",
      "Requirement already satisfied: idna<4,>=2.5 in c:\\users\\oscar\\anaconda3\\lib\\site-packages (from requests->contextily>=1.0.0->geoplot) (3.4)\n",
      "Requirement already satisfied: urllib3<3,>=1.21.1 in c:\\users\\oscar\\anaconda3\\lib\\site-packages (from requests->contextily>=1.0.0->geoplot) (1.26.16)\n",
      "Requirement already satisfied: threadpoolctl>=2.0.0 in c:\\users\\oscar\\anaconda3\\lib\\site-packages (from scikit-learn->mapclassify>=2.1->geoplot) (2.2.0)\n",
      "Requirement already satisfied: colorama in c:\\users\\oscar\\anaconda3\\lib\\site-packages (from click~=8.0->fiona>=1.8.21->geopandas>=0.9.0->geoplot) (0.4.6)\n",
      "Note: you may need to restart the kernel to use updated packages.\n"
     ]
    }
   ],
   "source": [
    "pip install geoplot"
   ]
  },
  {
   "cell_type": "code",
   "execution_count": 5,
   "id": "53c9691a",
   "metadata": {},
   "outputs": [],
   "source": [
    "#MODULES\n",
    "from eurostatapiclient import EurostatAPIClient \n",
    "\n",
    "VERSION = '1.0'\n",
    "FORMAT = 'json'\n",
    "LANGUAGE = 'en'\n",
    "\n",
    "client = EurostatAPIClient(VERSION, FORMAT, LANGUAGE)\n",
    "\n",
    "#LIBRARIES\n",
    "%matplotlib inline\n",
    "\n",
    "import warnings\n",
    "warnings.simplefilter(action='ignore', category=UserWarning) \n",
    "\n",
    "import pandas as pd\n",
    "import numpy as np\n",
    "import xlrd\n",
    "\n",
    "import geopandas as gpd\n",
    "import geoplot as gplt\n",
    "import geoplot.crs as gcrs\n",
    "\n",
    "import matplotlib.pyplot as plt\n",
    "from matplotlib.pyplot import cm \n",
    "\n",
    "import plotly.express as px\n",
    "import plotly.graph_objects as go"
   ]
  },
  {
   "cell_type": "markdown",
   "id": "5228a884",
   "metadata": {},
   "source": [
    "# DATA"
   ]
  },
  {
   "cell_type": "code",
   "execution_count": 6,
   "id": "eb7511a0",
   "metadata": {},
   "outputs": [
    {
     "name": "stdout",
     "output_type": "stream",
     "text": [
      "Demographic balance and crude rates by metropolitan regions\n",
      "    values freq  indic_de metroreg  time\n",
      "0  12836.0    A  CNMIGRAT       BE  2000\n",
      "1  34386.0    A  CNMIGRAT       BE  2001\n",
      "2  38665.0    A  CNMIGRAT       BE  2002\n",
      "3  33611.0    A  CNMIGRAT       BE  2003\n",
      "4  33392.0    A  CNMIGRAT       BE  2004\n"
     ]
    }
   ],
   "source": [
    "dataset = client.get_dataset('met_gind3')\n",
    "print(dataset.label)\n",
    "\n",
    "df = dataset.to_dataframe()\n",
    "print(df.head())\n"
   ]
  },
  {
   "cell_type": "code",
   "execution_count": 7,
   "id": "3124b80f",
   "metadata": {},
   "outputs": [],
   "source": [
    "def df_caracterization():\n",
    "    print(f'Caracterization:')\n",
    "    df.info()\n",
    "    print(f'Rows and Columns: {df.shape}')\n",
    "    df.reset_index()\n",
    "    return df.head(5)"
   ]
  },
  {
   "cell_type": "code",
   "execution_count": 8,
   "id": "879f7c2d",
   "metadata": {},
   "outputs": [
    {
     "name": "stdout",
     "output_type": "stream",
     "text": [
      "Caracterization:\n",
      "<class 'pandas.core.frame.DataFrame'>\n",
      "RangeIndex: 92851 entries, 0 to 92850\n",
      "Data columns (total 5 columns):\n",
      " #   Column    Non-Null Count  Dtype  \n",
      "---  ------    --------------  -----  \n",
      " 0   values    47237 non-null  float64\n",
      " 1   freq      92851 non-null  object \n",
      " 2   indic_de  92851 non-null  object \n",
      " 3   metroreg  92851 non-null  object \n",
      " 4   time      92851 non-null  object \n",
      "dtypes: float64(1), object(4)\n",
      "memory usage: 3.5+ MB\n",
      "Rows and Columns: (92851, 5)\n"
     ]
    },
    {
     "data": {
      "text/html": [
       "<div>\n",
       "<style scoped>\n",
       "    .dataframe tbody tr th:only-of-type {\n",
       "        vertical-align: middle;\n",
       "    }\n",
       "\n",
       "    .dataframe tbody tr th {\n",
       "        vertical-align: top;\n",
       "    }\n",
       "\n",
       "    .dataframe thead th {\n",
       "        text-align: right;\n",
       "    }\n",
       "</style>\n",
       "<table border=\"1\" class=\"dataframe\">\n",
       "  <thead>\n",
       "    <tr style=\"text-align: right;\">\n",
       "      <th></th>\n",
       "      <th>values</th>\n",
       "      <th>freq</th>\n",
       "      <th>indic_de</th>\n",
       "      <th>metroreg</th>\n",
       "      <th>time</th>\n",
       "    </tr>\n",
       "  </thead>\n",
       "  <tbody>\n",
       "    <tr>\n",
       "      <th>0</th>\n",
       "      <td>12836.0</td>\n",
       "      <td>A</td>\n",
       "      <td>CNMIGRAT</td>\n",
       "      <td>BE</td>\n",
       "      <td>2000</td>\n",
       "    </tr>\n",
       "    <tr>\n",
       "      <th>1</th>\n",
       "      <td>34386.0</td>\n",
       "      <td>A</td>\n",
       "      <td>CNMIGRAT</td>\n",
       "      <td>BE</td>\n",
       "      <td>2001</td>\n",
       "    </tr>\n",
       "    <tr>\n",
       "      <th>2</th>\n",
       "      <td>38665.0</td>\n",
       "      <td>A</td>\n",
       "      <td>CNMIGRAT</td>\n",
       "      <td>BE</td>\n",
       "      <td>2002</td>\n",
       "    </tr>\n",
       "    <tr>\n",
       "      <th>3</th>\n",
       "      <td>33611.0</td>\n",
       "      <td>A</td>\n",
       "      <td>CNMIGRAT</td>\n",
       "      <td>BE</td>\n",
       "      <td>2003</td>\n",
       "    </tr>\n",
       "    <tr>\n",
       "      <th>4</th>\n",
       "      <td>33392.0</td>\n",
       "      <td>A</td>\n",
       "      <td>CNMIGRAT</td>\n",
       "      <td>BE</td>\n",
       "      <td>2004</td>\n",
       "    </tr>\n",
       "  </tbody>\n",
       "</table>\n",
       "</div>"
      ],
      "text/plain": [
       "    values freq  indic_de metroreg  time\n",
       "0  12836.0    A  CNMIGRAT       BE  2000\n",
       "1  34386.0    A  CNMIGRAT       BE  2001\n",
       "2  38665.0    A  CNMIGRAT       BE  2002\n",
       "3  33611.0    A  CNMIGRAT       BE  2003\n",
       "4  33392.0    A  CNMIGRAT       BE  2004"
      ]
     },
     "execution_count": 8,
     "metadata": {},
     "output_type": "execute_result"
    }
   ],
   "source": [
    "df_caracterization()"
   ]
  },
  {
   "cell_type": "markdown",
   "id": "a805e754",
   "metadata": {},
   "source": [
    "### STANDARIZATION & DATA SELECTION"
   ]
  },
  {
   "cell_type": "markdown",
   "id": "3f834fbf",
   "metadata": {},
   "source": [
    "- Rename columns.\n",
    "- Remove all empty rows, and innecessary columns as freq. (All annual frequency)\n",
    "- Demographic dataframe creation"
   ]
  },
  {
   "cell_type": "code",
   "execution_count": 9,
   "id": "b63dd863",
   "metadata": {},
   "outputs": [],
   "source": [
    "df.rename(columns={\"indic_de\": \"indicator\"}, inplace = True)\n",
    "trash = [\"freq\"]\n",
    "df = df.drop(trash, axis=1)\n",
    "df = df.dropna(how='all')"
   ]
  },
  {
   "cell_type": "code",
   "execution_count": 10,
   "id": "94fc7961",
   "metadata": {},
   "outputs": [
    {
     "data": {
      "text/html": [
       "<div>\n",
       "<style scoped>\n",
       "    .dataframe tbody tr th:only-of-type {\n",
       "        vertical-align: middle;\n",
       "    }\n",
       "\n",
       "    .dataframe tbody tr th {\n",
       "        vertical-align: top;\n",
       "    }\n",
       "\n",
       "    .dataframe thead th {\n",
       "        text-align: right;\n",
       "    }\n",
       "</style>\n",
       "<table border=\"1\" class=\"dataframe\">\n",
       "  <thead>\n",
       "    <tr style=\"text-align: right;\">\n",
       "      <th></th>\n",
       "      <th>values</th>\n",
       "      <th>indicator</th>\n",
       "      <th>metroreg</th>\n",
       "      <th>time</th>\n",
       "    </tr>\n",
       "  </thead>\n",
       "  <tbody>\n",
       "    <tr>\n",
       "      <th>92846</th>\n",
       "      <td>NaN</td>\n",
       "      <td>NATGROWRT</td>\n",
       "      <td>TR_NM</td>\n",
       "      <td>2018</td>\n",
       "    </tr>\n",
       "    <tr>\n",
       "      <th>92847</th>\n",
       "      <td>NaN</td>\n",
       "      <td>NATGROWRT</td>\n",
       "      <td>TR_NM</td>\n",
       "      <td>2019</td>\n",
       "    </tr>\n",
       "    <tr>\n",
       "      <th>92848</th>\n",
       "      <td>NaN</td>\n",
       "      <td>NATGROWRT</td>\n",
       "      <td>TR_NM</td>\n",
       "      <td>2020</td>\n",
       "    </tr>\n",
       "    <tr>\n",
       "      <th>92849</th>\n",
       "      <td>NaN</td>\n",
       "      <td>NATGROWRT</td>\n",
       "      <td>TR_NM</td>\n",
       "      <td>2021</td>\n",
       "    </tr>\n",
       "    <tr>\n",
       "      <th>92850</th>\n",
       "      <td>NaN</td>\n",
       "      <td>NATGROWRT</td>\n",
       "      <td>TR_NM</td>\n",
       "      <td>2022</td>\n",
       "    </tr>\n",
       "  </tbody>\n",
       "</table>\n",
       "</div>"
      ],
      "text/plain": [
       "       values  indicator metroreg  time\n",
       "92846     NaN  NATGROWRT    TR_NM  2018\n",
       "92847     NaN  NATGROWRT    TR_NM  2019\n",
       "92848     NaN  NATGROWRT    TR_NM  2020\n",
       "92849     NaN  NATGROWRT    TR_NM  2021\n",
       "92850     NaN  NATGROWRT    TR_NM  2022"
      ]
     },
     "execution_count": 10,
     "metadata": {},
     "output_type": "execute_result"
    }
   ],
   "source": [
    "df.tail(5)"
   ]
  },
  {
   "cell_type": "code",
   "execution_count": 11,
   "id": "2c59e25f",
   "metadata": {},
   "outputs": [],
   "source": [
    "def explore_duplicates(df):\n",
    "    duplicate_rows = df.duplicated().sum()\n",
    "    print(f\"There are {df.duplicated().sum()} duplicate rows. Also;\")  \n",
    "def explore_nan(df):\n",
    "    nan_values = df.isna().sum()\n",
    "    empty_spaces = df.eq(' ').sum()\n",
    "    exploration = pd.DataFrame({\"NaN\": nan_values, \"EmptySpaces\": empty_spaces}) # New dataframe with the results\n",
    "    return exploration"
   ]
  },
  {
   "cell_type": "code",
   "execution_count": 12,
   "id": "55320f7b",
   "metadata": {},
   "outputs": [
    {
     "name": "stdout",
     "output_type": "stream",
     "text": [
      "There are 0 duplicate rows. Also;\n"
     ]
    },
    {
     "data": {
      "text/html": [
       "<div>\n",
       "<style scoped>\n",
       "    .dataframe tbody tr th:only-of-type {\n",
       "        vertical-align: middle;\n",
       "    }\n",
       "\n",
       "    .dataframe tbody tr th {\n",
       "        vertical-align: top;\n",
       "    }\n",
       "\n",
       "    .dataframe thead th {\n",
       "        text-align: right;\n",
       "    }\n",
       "</style>\n",
       "<table border=\"1\" class=\"dataframe\">\n",
       "  <thead>\n",
       "    <tr style=\"text-align: right;\">\n",
       "      <th></th>\n",
       "      <th>NaN</th>\n",
       "      <th>EmptySpaces</th>\n",
       "    </tr>\n",
       "  </thead>\n",
       "  <tbody>\n",
       "    <tr>\n",
       "      <th>values</th>\n",
       "      <td>45614</td>\n",
       "      <td>0</td>\n",
       "    </tr>\n",
       "    <tr>\n",
       "      <th>indicator</th>\n",
       "      <td>0</td>\n",
       "      <td>0</td>\n",
       "    </tr>\n",
       "    <tr>\n",
       "      <th>metroreg</th>\n",
       "      <td>0</td>\n",
       "      <td>0</td>\n",
       "    </tr>\n",
       "    <tr>\n",
       "      <th>time</th>\n",
       "      <td>0</td>\n",
       "      <td>0</td>\n",
       "    </tr>\n",
       "  </tbody>\n",
       "</table>\n",
       "</div>"
      ],
      "text/plain": [
       "             NaN  EmptySpaces\n",
       "values     45614            0\n",
       "indicator      0            0\n",
       "metroreg       0            0\n",
       "time           0            0"
      ]
     },
     "execution_count": 12,
     "metadata": {},
     "output_type": "execute_result"
    }
   ],
   "source": [
    "explore_duplicates(df)\n",
    "explore_nan(df)"
   ]
  },
  {
   "cell_type": "code",
   "execution_count": 13,
   "id": "1fba2391",
   "metadata": {},
   "outputs": [],
   "source": [
    "df2 = df.dropna(axis=0)"
   ]
  },
  {
   "cell_type": "code",
   "execution_count": 14,
   "id": "3975e082",
   "metadata": {},
   "outputs": [
    {
     "name": "stdout",
     "output_type": "stream",
     "text": [
      "There are 0 duplicate rows. Also;\n"
     ]
    },
    {
     "data": {
      "text/html": [
       "<div>\n",
       "<style scoped>\n",
       "    .dataframe tbody tr th:only-of-type {\n",
       "        vertical-align: middle;\n",
       "    }\n",
       "\n",
       "    .dataframe tbody tr th {\n",
       "        vertical-align: top;\n",
       "    }\n",
       "\n",
       "    .dataframe thead th {\n",
       "        text-align: right;\n",
       "    }\n",
       "</style>\n",
       "<table border=\"1\" class=\"dataframe\">\n",
       "  <thead>\n",
       "    <tr style=\"text-align: right;\">\n",
       "      <th></th>\n",
       "      <th>NaN</th>\n",
       "      <th>EmptySpaces</th>\n",
       "    </tr>\n",
       "  </thead>\n",
       "  <tbody>\n",
       "    <tr>\n",
       "      <th>values</th>\n",
       "      <td>0</td>\n",
       "      <td>0</td>\n",
       "    </tr>\n",
       "    <tr>\n",
       "      <th>indicator</th>\n",
       "      <td>0</td>\n",
       "      <td>0</td>\n",
       "    </tr>\n",
       "    <tr>\n",
       "      <th>metroreg</th>\n",
       "      <td>0</td>\n",
       "      <td>0</td>\n",
       "    </tr>\n",
       "    <tr>\n",
       "      <th>time</th>\n",
       "      <td>0</td>\n",
       "      <td>0</td>\n",
       "    </tr>\n",
       "  </tbody>\n",
       "</table>\n",
       "</div>"
      ],
      "text/plain": [
       "           NaN  EmptySpaces\n",
       "values       0            0\n",
       "indicator    0            0\n",
       "metroreg     0            0\n",
       "time         0            0"
      ]
     },
     "execution_count": 14,
     "metadata": {},
     "output_type": "execute_result"
    }
   ],
   "source": [
    "explore_duplicates(df2)\n",
    "explore_nan(df2)"
   ]
  },
  {
   "cell_type": "code",
   "execution_count": 15,
   "id": "35c7dce3",
   "metadata": {},
   "outputs": [
    {
     "data": {
      "text/plain": [
       "(47237, 4)"
      ]
     },
     "execution_count": 15,
     "metadata": {},
     "output_type": "execute_result"
    }
   ],
   "source": [
    "df2.shape"
   ]
  },
  {
   "cell_type": "markdown",
   "id": "ac1bcad3",
   "metadata": {},
   "source": [
    "### DF INDICATOR SELECTOR"
   ]
  },
  {
   "cell_type": "code",
   "execution_count": 16,
   "id": "3d3842d9",
   "metadata": {},
   "outputs": [
    {
     "data": {
      "text/plain": [
       "array(['CNMIGRAT', 'CNMIGRATRT', 'DEATH', 'GBIRTHRT', 'GDEATHRT', 'GROW',\n",
       "       'GROWRT', 'JAN', 'LBIRTH', 'NATGROW', 'NATGROWRT'], dtype=object)"
      ]
     },
     "execution_count": 16,
     "metadata": {},
     "output_type": "execute_result"
    }
   ],
   "source": [
    "df2[\"indicator\"].unique()"
   ]
  },
  {
   "cell_type": "code",
   "execution_count": 17,
   "id": "a4cae02a",
   "metadata": {},
   "outputs": [],
   "source": [
    "indicator_selector = ['NATGROW', 'CNMIGRAT']\n",
    "df2 = df2[df2['indicator'].map(lambda x: x in indicator_selector)]"
   ]
  },
  {
   "cell_type": "code",
   "execution_count": 18,
   "id": "2b383398",
   "metadata": {},
   "outputs": [
    {
     "data": {
      "text/plain": [
       "(14183, 4)"
      ]
     },
     "execution_count": 18,
     "metadata": {},
     "output_type": "execute_result"
    }
   ],
   "source": [
    "df2.shape"
   ]
  },
  {
   "cell_type": "markdown",
   "id": "506ddd3e",
   "metadata": {},
   "source": [
    "### BANANAS CREATION"
   ]
  },
  {
   "cell_type": "code",
   "execution_count": 19,
   "id": "211991de",
   "metadata": {},
   "outputs": [
    {
     "data": {
      "text/plain": [
       "array(['BE', 'BE001MC', 'BE002M', 'BE003M', 'BE004M', 'BE005M', 'BE007M',\n",
       "       'BE_NM', 'BG', 'BG001MC', 'BG002M', 'BG003M', 'BG004M', 'BG_NM',\n",
       "       'CZ', 'CZ001MC', 'CZ002M', 'CZ003M', 'CZ004M', 'CZ_NM', 'DK',\n",
       "       'DK001MC', 'DK002M', 'DK003M', 'DK004M', 'DK_NM', 'DE', 'DE001MC',\n",
       "       'DE002M', 'DE003M', 'DE004M', 'DE005M', 'DE007M', 'DE008M',\n",
       "       'DE009M', 'DE011M', 'DE012M', 'DE013M', 'DE014M', 'DE017M',\n",
       "       'DE018M', 'DE019M', 'DE020M', 'DE021M', 'DE025M', 'DE027M',\n",
       "       'DE028M', 'DE031M', 'DE032M', 'DE033M', 'DE034M', 'DE035M',\n",
       "       'DE036M', 'DE037M', 'DE038M', 'DE039M', 'DE040M', 'DE042M',\n",
       "       'DE043M', 'DE044M', 'DE045M', 'DE052M', 'DE054M', 'DE057M',\n",
       "       'DE059M', 'DE061M', 'DE064M', 'DE069M', 'DE073M', 'DE074M',\n",
       "       'DE077M', 'DE079M', 'DE083M', 'DE084M', 'DE504M', 'DE507M',\n",
       "       'DE510M', 'DE513M', 'DE517M', 'DE520M', 'DE522M', 'DE523M',\n",
       "       'DE524M', 'DE527M', 'DE529M', 'DE532M', 'DE533M', 'DE534M',\n",
       "       'DE537M', 'DE540M', 'DE542M', 'DE544M', 'DE546M', 'DE548M',\n",
       "       'DE549M', 'DE_NM', 'EE', 'EE001MC', 'EE_NM', 'IE', 'IE001MC',\n",
       "       'IE002M', 'IE_NM', 'EL', 'EL001MC', 'EL002M', 'EL_NM', 'ES',\n",
       "       'ES001MC', 'ES002M', 'ES003M', 'ES004M', 'ES005M', 'ES006M',\n",
       "       'ES007M', 'ES008M', 'ES009M', 'ES010M', 'ES012M', 'ES013M',\n",
       "       'ES014M', 'ES015M', 'ES019M', 'ES020M', 'ES021M', 'ES022M',\n",
       "       'ES025M', 'ES026M', 'ES501M', 'ES510M', 'ES522M', 'ES_NM', 'FR',\n",
       "       'FR001MC', 'FR003M', 'FR004M', 'FR006M', 'FR007M', 'FR008M',\n",
       "       'FR009M', 'FR010M', 'FR011M', 'FR013M', 'FR014M', 'FR015M',\n",
       "       'FR016M', 'FR018M', 'FR019M', 'FR020M', 'FR021M', 'FR022M',\n",
       "       'FR023M', 'FR024M', 'FR025M', 'FR026M', 'FR030M', 'FR035M',\n",
       "       'FR036M', 'FR037M', 'FR038M', 'FR040M', 'FR043M', 'FR044M',\n",
       "       'FR045M', 'FR048M', 'FR203M', 'FR205M', 'FR520M', 'FR_NM', 'HR',\n",
       "       'HR001MC', 'HR005M', 'HR_NM', 'IT', 'IT001MC', 'IT002M', 'IT003M',\n",
       "       'IT004M', 'IT005M', 'IT006M', 'IT007M', 'IT008M', 'IT009M',\n",
       "       'IT010M', 'IT011M', 'IT012M', 'IT016M', 'IT022M', 'IT027M',\n",
       "       'IT028M', 'IT029M', 'IT501M', 'IT502M', 'IT503M', 'IT505M',\n",
       "       'IT511M', 'IT_NM', 'CY', 'CY001MC', 'LV', 'LV001MC', 'LV_NM', 'LT',\n",
       "       'LT001MC', 'LT002M', 'LT_NM', 'LU', 'LU001MC', 'HU', 'HU001MC',\n",
       "       'HU002M', 'HU004M', 'HU005M', 'HU009M', 'HU_NM', 'MT', 'MT001MC',\n",
       "       'MT_NM', 'NL', 'NL001M', 'NL002MC', 'NL003M', 'NL004M', 'NL005M',\n",
       "       'NL006M', 'NL007M', 'NL008M', 'NL009M', 'NL012M', 'NL015M',\n",
       "       'NL507M', 'NL511M', 'NL_NM', 'AT', 'AT001MC', 'AT002M', 'AT003M',\n",
       "       'AT004M', 'AT005M', 'AT_NM', 'PL', 'PL001MC', 'PL002M', 'PL003M',\n",
       "       'PL004M', 'PL005M', 'PL006M', 'PL007M', 'PL008M', 'PL009M',\n",
       "       'PL010M', 'PL011M', 'PL012M', 'PL014M', 'PL015M', 'PL016M',\n",
       "       'PL024M', 'PL025M', 'PL506M', 'PL514M', 'PL_NM', 'PT', 'PT001MC',\n",
       "       'PT002M', 'PT005M', 'PT_NM', 'RO', 'RO001MC', 'RO002M', 'RO003M',\n",
       "       'RO004M', 'RO501M', 'RO502M', 'RO503M', 'RO504M', 'RO505M',\n",
       "       'RO_NM', 'SI', 'SI001MC', 'SI002M', 'SI_NM', 'SK', 'SK001MC',\n",
       "       'SK002M', 'SK_NM', 'FI', 'FI001MC', 'FI002M', 'FI003M', 'FI_NM',\n",
       "       'SE', 'SE001MC', 'SE002M', 'SE003M', 'SE006M', 'SE_NM', 'IS',\n",
       "       'IS_NM', 'LI', 'LI_NM', 'NO', 'NO001MC', 'NO002M', 'NO003M',\n",
       "       'NO004M', 'NO_NM', 'CH', 'CH001M', 'CH002M', 'CH003M', 'CH004MC',\n",
       "       'CH005M', 'CH006M', 'CH007M', 'CH_NM', 'UK', 'UK001MC', 'UK002M',\n",
       "       'UK003M', 'UK004M', 'UK005M', 'UK006M', 'UK007M', 'UK008M',\n",
       "       'UK009M', 'UK010M', 'UK011M', 'UK012M', 'UK013M', 'UK014M',\n",
       "       'UK016M', 'UK017M', 'UK018M', 'UK023M', 'UK025M', 'UK026M',\n",
       "       'UK027M', 'UK029M', 'UK501M', 'UK506M', 'UK510M', 'UK513M',\n",
       "       'UK515M', 'UK516M', 'UK517M', 'UK518M', 'UK520M', 'UK528M',\n",
       "       'UK539M', 'UK546M', 'UK553M', 'UK559M', 'UK560M', 'UK566M',\n",
       "       'UK568M', 'UK569M', 'UK_NM', 'ME', 'ME_NM', 'MK', 'MK_NM', 'AL',\n",
       "       'AL_NM', 'RS', 'RS_NM', 'TR', 'TR_NM'], dtype=object)"
      ]
     },
     "execution_count": 19,
     "metadata": {},
     "output_type": "execute_result"
    }
   ],
   "source": [
    "df2[\"metroreg\"].unique()"
   ]
  },
  {
   "cell_type": "code",
   "execution_count": 20,
   "id": "d6c72c8b",
   "metadata": {},
   "outputs": [],
   "source": [
    "blue_gold = [\"AT\",\"UK\", \"FR\", \"BE\", \"DE\", \"NL\",\"LU\", \"IT\", \"ES\"]\n",
    "df2 = df2[df2['metroreg'].str.startswith(tuple(blue_gold))]"
   ]
  },
  {
   "cell_type": "code",
   "execution_count": 21,
   "id": "d1462eed",
   "metadata": {},
   "outputs": [
    {
     "data": {
      "text/plain": [
       "(8919, 4)"
      ]
     },
     "execution_count": 21,
     "metadata": {},
     "output_type": "execute_result"
    }
   ],
   "source": [
    "df2.shape"
   ]
  },
  {
   "cell_type": "code",
   "execution_count": 22,
   "id": "e84b4745",
   "metadata": {},
   "outputs": [],
   "source": [
    "blue = ['BE001MC', 'BE002M', 'BE003M', 'BE004M',\n",
    "       'BE005M', 'BE007M', 'BE_NM', 'DE003M', 'DE004M', 'DE005M',\"UK001MC\",\"UK569M\",\"UK546M\",\"UK017M\",\"UK513M\",\"UK520M\",\"UK019M\",\"UK017M\",\"UK515M\", \"UK560M\" \"UK023M\", \"UK025M\",\"UK539M\",\"UK528M\",\"DE549M\",\"DE038M\",\"DE504M\",\"DE045M\",\"DE546M\",\"DE004M\", \"DE034M\", \"DE548M\", \"DE507M\", \"DE042M\", \"DE079M\", \"DE057M\",\"DE020M\", \"DE037M\", \"DE005M\", \"DE025M\", \"DE061M\", \"DE524M\", \"DE077M\", \"DE040M\", \"DE044M\", \"DE084M\", \"DE522M\", \"DE529M\", \"DE035M\", \"DE533M\", \"DE007M\", \"DE073M\", \"DE027M\", \"DE054M\", \"DE532M\", \"DE537M\", \"DE059M\", \"DE014M\", \"DE534M\", \"DE028M\", \"DE003M\", \"DE033M\", \"DE069M\",\"AT004M\",\"AT005M\",\"FR009M\", \"FR014M\", \"FR016M\", \"FR006M\", \"FR040M\", \"IT002M\", \"IT511M\", \"IT029M\", \"IT012M\", \"IT028M\", \"IT011M\"]"
   ]
  },
  {
   "cell_type": "code",
   "execution_count": 23,
   "id": "5f290a9b",
   "metadata": {},
   "outputs": [],
   "source": [
    "gold = [\"ES005M\",\"ES007M\",\"ES021M\", \"ES003M\", \"ES002M\", \"ES010M\", \"FR043M\", \"FR010M\",\"FR044M\",\"FR203M\", \"FR205M\", \"FR026M\" \"FR004M\",\"IT004M\", \"IT006M\", \"IT503M\", \"IT505M\", \"IT009M\", \"IT502M\", \"IT007M\"]"
   ]
  },
  {
   "cell_type": "code",
   "execution_count": 24,
   "id": "e236d8fa",
   "metadata": {},
   "outputs": [],
   "source": [
    "dfb = df2[df2['metroreg'].apply(lambda x: x in blue)]\n",
    "dfg = df2[df2['metroreg'].apply(lambda x: x in gold)]"
   ]
  },
  {
   "cell_type": "code",
   "execution_count": 25,
   "id": "fb945e30",
   "metadata": {},
   "outputs": [
    {
     "data": {
      "text/plain": [
       "(2815, 4)"
      ]
     },
     "execution_count": 25,
     "metadata": {},
     "output_type": "execute_result"
    }
   ],
   "source": [
    "dfb.shape"
   ]
  },
  {
   "cell_type": "code",
   "execution_count": 26,
   "id": "774d0483",
   "metadata": {},
   "outputs": [
    {
     "data": {
      "text/plain": [
       "(783, 4)"
      ]
     },
     "execution_count": 26,
     "metadata": {},
     "output_type": "execute_result"
    }
   ],
   "source": [
    "dfg.shape"
   ]
  },
  {
   "cell_type": "markdown",
   "id": "a9a73996",
   "metadata": {},
   "source": [
    "# GEODATA"
   ]
  },
  {
   "cell_type": "code",
   "execution_count": 27,
   "id": "9c9c17e0",
   "metadata": {},
   "outputs": [
    {
     "ename": "DriverError",
     "evalue": "NUTS_RG_20M_2021_3035.geojson: No such file or directory",
     "output_type": "error",
     "traceback": [
      "\u001b[1;31m---------------------------------------------------------------------------\u001b[0m",
      "\u001b[1;31mCPLE_OpenFailedError\u001b[0m                      Traceback (most recent call last)",
      "File \u001b[1;32mfiona\\\\ogrext.pyx:136\u001b[0m, in \u001b[0;36mfiona.ogrext.gdal_open_vector\u001b[1;34m()\u001b[0m\n",
      "File \u001b[1;32mfiona\\\\_err.pyx:291\u001b[0m, in \u001b[0;36mfiona._err.exc_wrap_pointer\u001b[1;34m()\u001b[0m\n",
      "\u001b[1;31mCPLE_OpenFailedError\u001b[0m: NUTS_RG_20M_2021_3035.geojson: No such file or directory",
      "\nDuring handling of the above exception, another exception occurred:\n",
      "\u001b[1;31mDriverError\u001b[0m                               Traceback (most recent call last)",
      "Cell \u001b[1;32mIn[27], line 1\u001b[0m\n\u001b[1;32m----> 1\u001b[0m dfnut \u001b[38;5;241m=\u001b[39m gpd\u001b[38;5;241m.\u001b[39mread_file(\u001b[38;5;124m\"\u001b[39m\u001b[38;5;124mNUTS_RG_20M_2021_3035.geojson\u001b[39m\u001b[38;5;124m\"\u001b[39m)\n",
      "File \u001b[1;32m~\\anaconda3\\Lib\\site-packages\\geopandas\\io\\file.py:297\u001b[0m, in \u001b[0;36m_read_file\u001b[1;34m(filename, bbox, mask, rows, engine, **kwargs)\u001b[0m\n\u001b[0;32m    294\u001b[0m     \u001b[38;5;28;01melse\u001b[39;00m:\n\u001b[0;32m    295\u001b[0m         path_or_bytes \u001b[38;5;241m=\u001b[39m filename\n\u001b[1;32m--> 297\u001b[0m     \u001b[38;5;28;01mreturn\u001b[39;00m _read_file_fiona(\n\u001b[0;32m    298\u001b[0m         path_or_bytes, from_bytes, bbox\u001b[38;5;241m=\u001b[39mbbox, mask\u001b[38;5;241m=\u001b[39mmask, rows\u001b[38;5;241m=\u001b[39mrows, \u001b[38;5;241m*\u001b[39m\u001b[38;5;241m*\u001b[39mkwargs\n\u001b[0;32m    299\u001b[0m     )\n\u001b[0;32m    301\u001b[0m \u001b[38;5;28;01melse\u001b[39;00m:\n\u001b[0;32m    302\u001b[0m     \u001b[38;5;28;01mraise\u001b[39;00m \u001b[38;5;167;01mValueError\u001b[39;00m(\u001b[38;5;124mf\u001b[39m\u001b[38;5;124m\"\u001b[39m\u001b[38;5;124munknown engine \u001b[39m\u001b[38;5;124m'\u001b[39m\u001b[38;5;132;01m{\u001b[39;00mengine\u001b[38;5;132;01m}\u001b[39;00m\u001b[38;5;124m'\u001b[39m\u001b[38;5;124m\"\u001b[39m)\n",
      "File \u001b[1;32m~\\anaconda3\\Lib\\site-packages\\geopandas\\io\\file.py:338\u001b[0m, in \u001b[0;36m_read_file_fiona\u001b[1;34m(path_or_bytes, from_bytes, bbox, mask, rows, where, **kwargs)\u001b[0m\n\u001b[0;32m    335\u001b[0m     reader \u001b[38;5;241m=\u001b[39m fiona\u001b[38;5;241m.\u001b[39mopen\n\u001b[0;32m    337\u001b[0m \u001b[38;5;28;01mwith\u001b[39;00m fiona_env():\n\u001b[1;32m--> 338\u001b[0m     \u001b[38;5;28;01mwith\u001b[39;00m reader(path_or_bytes, \u001b[38;5;241m*\u001b[39m\u001b[38;5;241m*\u001b[39mkwargs) \u001b[38;5;28;01mas\u001b[39;00m features:\n\u001b[0;32m    339\u001b[0m         crs \u001b[38;5;241m=\u001b[39m features\u001b[38;5;241m.\u001b[39mcrs_wkt\n\u001b[0;32m    340\u001b[0m         \u001b[38;5;66;03m# attempt to get EPSG code\u001b[39;00m\n",
      "File \u001b[1;32m~\\anaconda3\\Lib\\site-packages\\fiona\\env.py:457\u001b[0m, in \u001b[0;36mensure_env_with_credentials.<locals>.wrapper\u001b[1;34m(*args, **kwds)\u001b[0m\n\u001b[0;32m    454\u001b[0m     session \u001b[38;5;241m=\u001b[39m DummySession()\n\u001b[0;32m    456\u001b[0m \u001b[38;5;28;01mwith\u001b[39;00m env_ctor(session\u001b[38;5;241m=\u001b[39msession):\n\u001b[1;32m--> 457\u001b[0m     \u001b[38;5;28;01mreturn\u001b[39;00m f(\u001b[38;5;241m*\u001b[39margs, \u001b[38;5;241m*\u001b[39m\u001b[38;5;241m*\u001b[39mkwds)\n",
      "File \u001b[1;32m~\\anaconda3\\Lib\\site-packages\\fiona\\__init__.py:292\u001b[0m, in \u001b[0;36mopen\u001b[1;34m(fp, mode, driver, schema, crs, encoding, layer, vfs, enabled_drivers, crs_wkt, allow_unsupported_drivers, **kwargs)\u001b[0m\n\u001b[0;32m    289\u001b[0m     path \u001b[38;5;241m=\u001b[39m parse_path(fp)\n\u001b[0;32m    291\u001b[0m \u001b[38;5;28;01mif\u001b[39;00m mode \u001b[38;5;129;01min\u001b[39;00m (\u001b[38;5;124m\"\u001b[39m\u001b[38;5;124ma\u001b[39m\u001b[38;5;124m\"\u001b[39m, \u001b[38;5;124m\"\u001b[39m\u001b[38;5;124mr\u001b[39m\u001b[38;5;124m\"\u001b[39m):\n\u001b[1;32m--> 292\u001b[0m     colxn \u001b[38;5;241m=\u001b[39m Collection(\n\u001b[0;32m    293\u001b[0m         path,\n\u001b[0;32m    294\u001b[0m         mode,\n\u001b[0;32m    295\u001b[0m         driver\u001b[38;5;241m=\u001b[39mdriver,\n\u001b[0;32m    296\u001b[0m         encoding\u001b[38;5;241m=\u001b[39mencoding,\n\u001b[0;32m    297\u001b[0m         layer\u001b[38;5;241m=\u001b[39mlayer,\n\u001b[0;32m    298\u001b[0m         enabled_drivers\u001b[38;5;241m=\u001b[39menabled_drivers,\n\u001b[0;32m    299\u001b[0m         allow_unsupported_drivers\u001b[38;5;241m=\u001b[39mallow_unsupported_drivers,\n\u001b[0;32m    300\u001b[0m         \u001b[38;5;241m*\u001b[39m\u001b[38;5;241m*\u001b[39mkwargs\n\u001b[0;32m    301\u001b[0m     )\n\u001b[0;32m    302\u001b[0m \u001b[38;5;28;01melif\u001b[39;00m mode \u001b[38;5;241m==\u001b[39m \u001b[38;5;124m\"\u001b[39m\u001b[38;5;124mw\u001b[39m\u001b[38;5;124m\"\u001b[39m:\n\u001b[0;32m    303\u001b[0m     colxn \u001b[38;5;241m=\u001b[39m Collection(\n\u001b[0;32m    304\u001b[0m         path,\n\u001b[0;32m    305\u001b[0m         mode,\n\u001b[1;32m   (...)\u001b[0m\n\u001b[0;32m    314\u001b[0m         \u001b[38;5;241m*\u001b[39m\u001b[38;5;241m*\u001b[39mkwargs\n\u001b[0;32m    315\u001b[0m     )\n",
      "File \u001b[1;32m~\\anaconda3\\Lib\\site-packages\\fiona\\collection.py:243\u001b[0m, in \u001b[0;36mCollection.__init__\u001b[1;34m(self, path, mode, driver, schema, crs, encoding, layer, vsi, archive, enabled_drivers, crs_wkt, ignore_fields, ignore_geometry, include_fields, wkt_version, allow_unsupported_drivers, **kwargs)\u001b[0m\n\u001b[0;32m    241\u001b[0m \u001b[38;5;28;01mif\u001b[39;00m \u001b[38;5;28mself\u001b[39m\u001b[38;5;241m.\u001b[39mmode \u001b[38;5;241m==\u001b[39m \u001b[38;5;124m\"\u001b[39m\u001b[38;5;124mr\u001b[39m\u001b[38;5;124m\"\u001b[39m:\n\u001b[0;32m    242\u001b[0m     \u001b[38;5;28mself\u001b[39m\u001b[38;5;241m.\u001b[39msession \u001b[38;5;241m=\u001b[39m Session()\n\u001b[1;32m--> 243\u001b[0m     \u001b[38;5;28mself\u001b[39m\u001b[38;5;241m.\u001b[39msession\u001b[38;5;241m.\u001b[39mstart(\u001b[38;5;28mself\u001b[39m, \u001b[38;5;241m*\u001b[39m\u001b[38;5;241m*\u001b[39mkwargs)\n\u001b[0;32m    244\u001b[0m \u001b[38;5;28;01melif\u001b[39;00m \u001b[38;5;28mself\u001b[39m\u001b[38;5;241m.\u001b[39mmode \u001b[38;5;129;01min\u001b[39;00m (\u001b[38;5;124m\"\u001b[39m\u001b[38;5;124ma\u001b[39m\u001b[38;5;124m\"\u001b[39m, \u001b[38;5;124m\"\u001b[39m\u001b[38;5;124mw\u001b[39m\u001b[38;5;124m\"\u001b[39m):\n\u001b[0;32m    245\u001b[0m     \u001b[38;5;28mself\u001b[39m\u001b[38;5;241m.\u001b[39msession \u001b[38;5;241m=\u001b[39m WritingSession()\n",
      "File \u001b[1;32mfiona\\\\ogrext.pyx:588\u001b[0m, in \u001b[0;36mfiona.ogrext.Session.start\u001b[1;34m()\u001b[0m\n",
      "File \u001b[1;32mfiona\\\\ogrext.pyx:143\u001b[0m, in \u001b[0;36mfiona.ogrext.gdal_open_vector\u001b[1;34m()\u001b[0m\n",
      "\u001b[1;31mDriverError\u001b[0m: NUTS_RG_20M_2021_3035.geojson: No such file or directory"
     ]
    }
   ],
   "source": [
    "dfnut = gpd.read_file(\"NUTS_RG_20M_2021_3035.geojson\")"
   ]
  },
  {
   "cell_type": "code",
   "execution_count": null,
   "id": "38b6596a",
   "metadata": {},
   "outputs": [],
   "source": [
    "dfnut = dfnut.drop(columns=['CNTR_CODE', 'NAME_LATN', 'NUTS_NAME', 'MOUNT_TYPE', 'URBN_TYPE', 'COAST_TYPE'])\n",
    "dfnut.columns = dfnut.columns.str.lower().str.replace(\" \",\"_\")"
   ]
  },
  {
   "cell_type": "code",
   "execution_count": null,
   "id": "8b62e4e3",
   "metadata": {},
   "outputs": [],
   "source": [
    "dfnut"
   ]
  },
  {
   "cell_type": "code",
   "execution_count": null,
   "id": "4e400fd0",
   "metadata": {},
   "outputs": [],
   "source": [
    "dfcodenut = pd.read_excel(\"NUTS_Tipologies.xlsx\")"
   ]
  },
  {
   "cell_type": "code",
   "execution_count": null,
   "id": "5621b5b8",
   "metadata": {},
   "outputs": [],
   "source": [
    "dfcodenut.columns = dfcodenut.columns.str.lower().str.replace(\" \",\"_\")"
   ]
  },
  {
   "cell_type": "code",
   "execution_count": null,
   "id": "a2f9f86f",
   "metadata": {},
   "outputs": [],
   "source": [
    "dfcodenut = dfcodenut[dfcodenut[\"metro_region_corresponding_to_the_nuts\"] == \"Y\"]\n"
   ]
  },
  {
   "cell_type": "code",
   "execution_count": null,
   "id": "b4907101",
   "metadata": {},
   "outputs": [],
   "source": [
    "dfcodenut[\"nuts_3_id_(2010)\"].unique()"
   ]
  },
  {
   "cell_type": "code",
   "execution_count": null,
   "id": "7e5df962",
   "metadata": {},
   "outputs": [],
   "source": [
    "dfnexusnut = dfcodenut_2.rename(columns={\"metro_region_code\": \"metroreg\", \"nuts_3_id_(2010)\": \"nuts_id\"})"
   ]
  },
  {
   "cell_type": "code",
   "execution_count": null,
   "id": "6e6bb27c",
   "metadata": {},
   "outputs": [],
   "source": [
    "#dfcodenut = dfcodenut[dfcodenut[\"rural_-_urban_typology\"] != \"Intermediate region\"]"
   ]
  },
  {
   "cell_type": "code",
   "execution_count": null,
   "id": "b4ef4f0a",
   "metadata": {},
   "outputs": [],
   "source": [
    "dfcode_blue = dfnexusnut[dfnexusnut['metroreg'].apply(lambda x: x in blue)]\n",
    "dfcode_gold = dfnexusnut[dfnexusnut['metroreg'].apply(lambda x: x in gold)]"
   ]
  },
  {
   "cell_type": "code",
   "execution_count": null,
   "id": "8f3eba13",
   "metadata": {},
   "outputs": [],
   "source": [
    "dfbcode = pd.merge(dfb,dfcode_blue, on = 'metroreg', how = \"outer\")\n",
    "dfgcode= pd.merge(dfg,dfcode_gold, on = 'metroreg', how = \"outer\")"
   ]
  },
  {
   "cell_type": "code",
   "execution_count": null,
   "id": "dbc13232",
   "metadata": {},
   "outputs": [],
   "source": [
    "dfgeoblue = pd.merge(dfnut,dfbcode, on = 'nuts_id', how = \"inner\")\n",
    "dfgeogolden = pd.merge(dfnut,dfgcode, on = 'nuts_id', how = \"inner\")"
   ]
  },
  {
   "cell_type": "code",
   "execution_count": null,
   "id": "e6019431",
   "metadata": {},
   "outputs": [],
   "source": [
    "dfnut[\"nuts_id\"].nunique()"
   ]
  },
  {
   "cell_type": "code",
   "execution_count": null,
   "id": "a2c5e1b0",
   "metadata": {},
   "outputs": [],
   "source": [
    "dfgeoblue = dfgeoblue.drop(columns = [\"id\", \"levl_code\", \"fid\"])\n",
    "dfgeoblue = dfgeoblue[[\"nuts_id\",\"metroreg\",\"metro_region_name\", \"indicator\",\"values\", \"time\",\"geometry\"]]\n",
    "dfgeoblue"
   ]
  },
  {
   "cell_type": "code",
   "execution_count": null,
   "id": "cf2e8ea7",
   "metadata": {},
   "outputs": [],
   "source": [
    "dfgeogolden[\"nuts_id\"].unique()"
   ]
  },
  {
   "cell_type": "code",
   "execution_count": null,
   "id": "1cd67733",
   "metadata": {},
   "outputs": [],
   "source": [
    "dfgeogolden = dfgeogolden.drop(columns = [\"id\", \"levl_code\", \"fid\"])\n",
    "dfgeogolden = dfgeogolden[[\"nuts_id\",\"metroreg\",\"metro_region_name\", \"indicator\",\"values\", \"time\",\"geometry\"]]\n",
    "dfgeogolden"
   ]
  },
  {
   "cell_type": "code",
   "execution_count": null,
   "id": "35194eae",
   "metadata": {},
   "outputs": [],
   "source": [
    "df_geobluenatgrow = dfgeoblue[dfgeoblue[\"indicator\"] == \"NATGROW\"]"
   ]
  },
  {
   "cell_type": "code",
   "execution_count": null,
   "id": "ad46070a",
   "metadata": {},
   "outputs": [],
   "source": [
    "df_geogoldennatgrow = dfgeogolden[dfgeogolden[\"indicator\"] == \"NATGROW\"]"
   ]
  },
  {
   "cell_type": "code",
   "execution_count": null,
   "id": "01fd00e4",
   "metadata": {},
   "outputs": [],
   "source": [
    "df_geobluenatgrow.plot(\"values\", legend = True, cmap = \"ocean_r\", figsize = (20,15))"
   ]
  },
  {
   "cell_type": "code",
   "execution_count": null,
   "id": "e616716e",
   "metadata": {},
   "outputs": [],
   "source": [
    "df_geogoldennatgrow.plot(\"values\", legend = True, cmap = 'autumn', figsize = (20,15))"
   ]
  },
  {
   "cell_type": "code",
   "execution_count": null,
   "id": "aa1ee6f8",
   "metadata": {},
   "outputs": [],
   "source": [
    "df_geobluenatinmgrow = dfgeoblue[dfgeoblue[\"indicator\"] == \"CNMIGRAT\"]"
   ]
  },
  {
   "cell_type": "code",
   "execution_count": null,
   "id": "4297d026",
   "metadata": {},
   "outputs": [],
   "source": [
    "df_geogoldennatinmgrow = dfgeogolden[dfgeogolden[\"indicator\"] == \"CNMIGRAT\"]"
   ]
  },
  {
   "cell_type": "code",
   "execution_count": null,
   "id": "77f3c6f8",
   "metadata": {},
   "outputs": [],
   "source": [
    "df_geobluenatinmgrow.plot(\"values\", legend = True, cmap = \"ocean_r\",figsize = (20,15))"
   ]
  },
  {
   "cell_type": "code",
   "execution_count": null,
   "id": "6777be19",
   "metadata": {},
   "outputs": [],
   "source": [
    "df_geogoldennatinmgrow.plot(\"values\", legend = True, cmap = 'autumn', figsize = (20,15))"
   ]
  },
  {
   "cell_type": "code",
   "execution_count": null,
   "id": "cd844fe4",
   "metadata": {},
   "outputs": [],
   "source": [
    "dfgeoblue.plot(\"values\", legend = True, figsize = (20,15))"
   ]
  },
  {
   "cell_type": "code",
   "execution_count": null,
   "id": "10b82c59",
   "metadata": {},
   "outputs": [],
   "source": [
    "dfgeogolden.plot(\"values\", legend = True, figsize = (20,15))"
   ]
  },
  {
   "cell_type": "code",
   "execution_count": null,
   "id": "df91e437",
   "metadata": {},
   "outputs": [],
   "source": [
    "dfgeoblue[\"envolvente\"] = dfgeoblue.convex_hull"
   ]
  },
  {
   "cell_type": "code",
   "execution_count": null,
   "id": "f19c2ffa",
   "metadata": {},
   "outputs": [],
   "source": [
    "dfgeoblue[\"envolvente\"].plot(alpha = 0.5, color = \"blue\", linewidth = 0.5)  #Guarda esto en variables"
   ]
  },
  {
   "cell_type": "code",
   "execution_count": null,
   "id": "1d2904aa",
   "metadata": {},
   "outputs": [],
   "source": [
    "dfgeogolden[\"envolvente\"] = dfgeogolden.convex_hull"
   ]
  },
  {
   "cell_type": "code",
   "execution_count": null,
   "id": "cd426c0b",
   "metadata": {},
   "outputs": [],
   "source": [
    "dfgeogolden[\"envolvente\"].plot(alpha = 0.5, color = \"gold\" , linewidth = 1) #Guarda esto en variables"
   ]
  },
  {
   "cell_type": "code",
   "execution_count": null,
   "id": "1f29ba15",
   "metadata": {},
   "outputs": [],
   "source": [
    "fig = px.choropleth(dfbcode, geojson=dfgeoblue, locations='time', color='values',\n",
    "                           color_continuous_scale=\"Viridis\",\n",
    "                           range_color=(0, 12),\n",
    "                           scope=\"europe\",\n",
    "                           labels={'unemp':'unemployment rate'}\n",
    "                    )\n",
    "fig.update_layout(margin={\"r\":0,\"t\":0,\"l\":0,\"b\":0})\n",
    "fig.show()"
   ]
  },
  {
   "cell_type": "code",
   "execution_count": null,
   "id": "d583735a",
   "metadata": {},
   "outputs": [],
   "source": []
  }
 ],
 "metadata": {
  "kernelspec": {
   "display_name": "Python 3 (ipykernel)",
   "language": "python",
   "name": "python3"
  },
  "language_info": {
   "codemirror_mode": {
    "name": "ipython",
    "version": 3
   },
   "file_extension": ".py",
   "mimetype": "text/x-python",
   "name": "python",
   "nbconvert_exporter": "python",
   "pygments_lexer": "ipython3",
   "version": "3.11.5"
  }
 },
 "nbformat": 4,
 "nbformat_minor": 5
}
